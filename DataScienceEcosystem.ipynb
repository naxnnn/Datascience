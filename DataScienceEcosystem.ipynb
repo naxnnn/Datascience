{
 "cells": [
  {
   "cell_type": "markdown",
   "id": "87be0008-4123-4d38-857c-dfd968d062cd",
   "metadata": {
    "tags": []
   },
   "source": [
    "# Data Science Tools and Ecosystem\n"
   ]
  },
  {
   "cell_type": "markdown",
   "id": "b8d15529-fdce-4207-8c9d-01223039143f",
   "metadata": {},
   "source": [
    "In this notebook, Data Science Tools and Ecosystem are summarized."
   ]
  },
  {
   "cell_type": "markdown",
   "id": "90787972-bc31-40f9-b125-d63a3929f512",
   "metadata": {},
   "source": [
    "**Some of the popular languages that Data Scientists use are:**\n",
    "1. python\n",
    "2. R\n",
    "3. SQL"
   ]
  },
  {
   "cell_type": "markdown",
   "id": "dbd1094e-6531-4bc0-a1f2-ba3c6aee8e06",
   "metadata": {
    "tags": []
   },
   "source": [
    "**Some of the commonly used libraries used by Data Scientists include:**\n",
    "1.  Matplotlib\n",
    "2. panda\n",
    "3. NumPy"
   ]
  },
  {
   "cell_type": "markdown",
   "id": "c7bb1604-bd5a-4262-9e8b-8620f4a87869",
   "metadata": {},
   "source": [
    "|Data Science Tools|\n",
    "|------------------|\n",
    "|Apache AirFlow|\n",
    "|SparkML|\n",
    "| MongoDB|"
   ]
  },
  {
   "cell_type": "markdown",
   "id": "a84183f6-fad5-41c6-9555-cbda5bdbbd9c",
   "metadata": {},
   "source": [
    "### Below are a few examples of evaluating arithmetic expressions in Python"
   ]
  },
  {
   "cell_type": "code",
   "execution_count": 1,
   "id": "f23e676b-cc7f-438e-aace-b9a0a2222ea0",
   "metadata": {
    "tags": []
   },
   "outputs": [
    {
     "data": {
      "text/plain": [
       "17"
      ]
     },
     "execution_count": 1,
     "metadata": {},
     "output_type": "execute_result"
    }
   ],
   "source": [
    "##This a simple arithmetic expression to mutiply then add integers \n",
    "(3*4)+5"
   ]
  },
  {
   "cell_type": "code",
   "execution_count": 3,
   "id": "c971b7ca-7dab-454a-937e-af75431df2b7",
   "metadata": {
    "tags": []
   },
   "outputs": [
    {
     "data": {
      "text/plain": [
       "3.3333333333333335"
      ]
     },
     "execution_count": 3,
     "metadata": {},
     "output_type": "execute_result"
    }
   ],
   "source": [
    "## This will convert 200 minutes to hours by diving by 60\n",
    "200/60 "
   ]
  },
  {
   "cell_type": "markdown",
   "id": "37877982-51cb-4d57-9ec5-bb296d185a8b",
   "metadata": {
    "tags": []
   },
   "source": [
    "**Objectives:**\n",
    "List popular languages for Data Science\n",
    "+ SQL\n",
    "+ python\n",
    "+ R"
   ]
  },
  {
   "cell_type": "markdown",
   "id": "9a2f0e85-93c5-4252-a137-6eca66d26840",
   "metadata": {},
   "source": [
    "## Author \n",
    "nouf alzhrani"
   ]
  },
  {
   "cell_type": "code",
   "execution_count": null,
   "id": "50234a33-f09b-4b78-92e6-d4fadbd73559",
   "metadata": {},
   "outputs": [],
   "source": []
  }
 ],
 "metadata": {
  "kernelspec": {
   "display_name": "Python",
   "language": "python",
   "name": "conda-env-python-py"
  },
  "language_info": {
   "codemirror_mode": {
    "name": "ipython",
    "version": 3
   },
   "file_extension": ".py",
   "mimetype": "text/x-python",
   "name": "python",
   "nbconvert_exporter": "python",
   "pygments_lexer": "ipython3",
   "version": "3.7.12"
  }
 },
 "nbformat": 4,
 "nbformat_minor": 5
}
